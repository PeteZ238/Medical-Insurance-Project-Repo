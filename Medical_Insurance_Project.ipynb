{
  "nbformat": 4,
  "nbformat_minor": 0,
  "metadata": {
    "colab": {
      "name": "Medical Insurance Project.ipynb",
      "provenance": [],
      "collapsed_sections": []
    },
    "kernelspec": {
      "name": "python3",
      "display_name": "Python 3",
      "language": "python"
    }
  },
  "cells": [
    {
      "cell_type": "markdown",
      "metadata": {
        "id": "w1oCA3BCl11T"
      },
      "source": [
        "# Medical Insurance Cost Project"
      ]
    },
    {
      "cell_type": "markdown",
      "metadata": {
        "id": "ScpQqtLwljEK"
      },
      "source": [
        "Define class to characterise patient:\n",
        "age: age of the individual in years\n",
        "\n",
        "*   **name:** Name of the individual\n",
        "*   **age:** Age of the individual in years\n",
        "*   **sex:** Sex of the indivisual - 0 for female, 1 for male\n",
        "*   **bmi:** Individual’s body mass index\n",
        "*   **num_of_children:** Number of children the individual has\n",
        "*   **smoker:** Indicates whether the indivisual is a smoker or not - 0 for a non-smoker, 1 for a smoker\n",
        "*   **insurance_costs:** Calculates the insurance cost of the individual based on the above inputs and the formula shown below"
      ]
    },
    {
      "cell_type": "markdown",
      "metadata": {
        "id": "85ChrwFWNqF3"
      },
      "source": [
        "$$ InsuranceCost =  (250*age) - (128*sex) + (370*BMI) + (425*NumOfChildren) + (24000*smoker) - 12500 $$"
      ]
    },
    {
      "source": [
        "Class methods:\n",
        "*   **print_ins_costs:** Function that prints a personalised insurance cost for the individual\n",
        "*   **analyse_smoker:** Identifies whether the individual can reduce their insurance cost by quitting smoking\n",
        "*   **analyse_bmi:** Identifies whether the individual \n",
        "*   **reduce_cost:** Utilises the .analyse_smoker() and .analyse_bmi() methods to suggest potential ways to reduce the insurance cost to the individual"
      ],
      "cell_type": "markdown",
      "metadata": {}
    },
    {
      "cell_type": "code",
      "metadata": {
        "id": "0k4GpkJ9i-Cq"
      },
      "source": [
        "class Patient:\n",
        "    def __init__(self,name,age,sex,bmi,num_of_children,smoker):\n",
        "        self.name = name\n",
        "        self.age = age\n",
        "        self.sex = sex\n",
        "        self.bmi = bmi\n",
        "        self.num_of_children = num_of_children\n",
        "        self.smoker = smoker\n",
        "        self.insurance_costs = (250 * self.age) - (128 * self.sex) + (370 * self.bmi) + (425 * self.num_of_children) + (24000 * self.smoker) - 12500\n",
        "\n",
        "    def __repr__(self):\n",
        "        if (self.sex == 0):\n",
        "            if (self.num_of_children == 0) and (self.smoker == 0):\n",
        "                return '{name} is {age} years old, female, with a bmi of {bmi}. She has no children and she does not smoke.\\n'.format(name = self.name, age = self.age, bmi = self.bmi)\n",
        "            elif (self.num_of_children != 0) and (self.smoker == 0):\n",
        "                return '{name} is {age} years old, female, with a bmi of {bmi}. She has {num_of_children} children and she does not smoke.\\n'.format(name = self.name, age = self.age, bmi = self.bmi, num_of_children = self.num_of_children)\n",
        "            elif (self.num_of_children == 0) and (self.smoker != 0):\n",
        "                return '{name} is {age} years old, female, with a bmi of {bmi}. She has no children and she is a smoker.\\n'.format(name = self.name, age = self.age, bmi = self.bmi)\n",
        "            elif (self.num_of_children != 0) and (self.smoker != 0):\n",
        "                return '{name} is {age} years old, female, with a bmi of {bmi}. She has {num_of_children} children and she is a smoker.\\n'.format(name = self.name, age = self.age, bmi = self.bmi, num_of_children = self.num_of_children)\n",
        "        elif (self.sex == 1):\n",
        "            if (self.num_of_children == 0) and (self.smoker == 0):\n",
        "                return '{name} is {age} years old, male, with a bmi of {bmi}. He has no children and he does not smoke.\\n'.format(name = self.name, age = self.age, bmi = self.bmi)\n",
        "            elif (self.num_of_children != 0) and (self.smoker == 0):\n",
        "                return '{name} is {age} years old, male, with a bmi of {bmi}. He has {num_of_children} children and he does not smoke.\\n'.format(name = self.name, age = self.age, bmi = self.bmi, num_of_children = self.num_of_children)\n",
        "            elif (self.num_of_children == 0) and (self.smoker != 0):\n",
        "                return '{name} is {age} years old, male, with a bmi of {bmi}. He has no children and he is a smoker.\\n'.format(name = self.name, age = self.age, bmi = self.bmi)\n",
        "            elif (self.num_of_children != 0) and (self.smoker != 0):\n",
        "                return '{name} is {age} years old, male, with a bmi of {bmi}. He has {num_of_children} children and he is a smoker.\\n'.format(name = self.name, age = self.age, bmi = self.bmi, num_of_children = self.num_of_children)\n",
        "\n",
        "    def print_ins_cost(self):\n",
        "        print('The insurance cost for {name} is {insurance_costs} dollars.\\n'.format(name = self.name, insurance_costs = self.insurance_costs))\n",
        "\n",
        "    def analyse_smoker(self):\n",
        "        if (self.smoker == 1):\n",
        "            print('{name}, you should consider quitting smoking in order to lower your cost.'.format(name = self.name))\n",
        "        else:\n",
        "            print('{name}, smoking is not an issue for you.'.format(name = self.name))\n",
        "\n",
        "    def analyse_bmi(patient):\n",
        "        if (self.bmi > 30):\n",
        "            print('{name}, your BMI is in the obese range. You should significantly lower your BMI in order to lower your cost.'.format(name = self.name))\n",
        "        elif (self.bmi >= 25) and (self.bmi <=30):\n",
        "            print('{name}, your BMI is in the overweight range. You should lower your BMI in order to lower your cost.'.format(name = self.name))\n",
        "        elif (self.bmi >= 18.5) and (self.bmi < 25):\n",
        "            print('{name}, your BMI is in a healthy range.'.format(name = self.name))\n",
        "        elif (self.bmi < 18.5):\n",
        "            print('{name}, your BMI is in the underweight range. Increasing your BMI will not help lower your cost, but it will help improve your health.'.format(name = self.name))\n",
        "\n",
        "    def reduce_cost(self):\n",
        "        analyse_smoker(self)\n",
        "        print('\\n')\n",
        "        analyse_bmi(self)\n",
        "        print('\\n')    "
      ],
      "execution_count": 43,
      "outputs": []
    },
    {
      "cell_type": "markdown",
      "metadata": {
        "id": "-g5lbQixsDkC"
      },
      "source": [
        "Function that compares the insurance cost of 2 patients."
      ]
    },
    {
      "cell_type": "code",
      "metadata": {
        "id": "vEu0niWUsEM5"
      },
      "source": [
        "def compare_costs(patient1,patient2):\n",
        "    cost_delta = patient1.insurance_costs - patient2.insurance_costs\n",
        "    return cost_delta"
      ],
      "execution_count": 44,
      "outputs": []
    },
    {
      "cell_type": "markdown",
      "metadata": {
        "id": "VUY9Fw2xnVcK"
      },
      "source": [
        "Define patients to investigate."
      ]
    },
    {
      "cell_type": "code",
      "metadata": {
        "id": "-Zc5riwhnWGQ"
      },
      "source": [
        "patient1 = Patient('Patient 1',28,0,26.2,3,0)\n",
        "patient2 = Patient('Patient 2',32,0,26.2,3,0)\n",
        "patient3 = Patient('Patient 3',28,0,29.3,3,0)\n",
        "patient4 = Patient('Patient 4',28,1,26.2,3,0)"
      ],
      "execution_count": 45,
      "outputs": []
    },
    {
      "cell_type": "markdown",
      "metadata": {
        "id": "snQvp62-xJS8"
      },
      "source": [
        "Introduce the defined patients"
      ]
    },
    {
      "cell_type": "code",
      "metadata": {
        "id": "2Jg99-iIxME5",
        "colab": {
          "base_uri": "https://localhost:8080/"
        },
        "outputId": "75fd6fa3-7ed7-4c94-e9ac-9d8952588e1c"
      },
      "source": [
        "print(patient1)\n",
        "print(patient2)\n",
        "print(patient3)\n",
        "print(patient4)"
      ],
      "execution_count": 46,
      "outputs": [
        {
          "output_type": "stream",
          "name": "stdout",
          "text": [
            "Patient 1 is 28 years old, female, with a bmi of 26.2. She has 3 children and she does not smoke.\n\nPatient 2 is 32 years old, female, with a bmi of 26.2. She has 3 children and she does not smoke.\n\nPatient 3 is 28 years old, female, with a bmi of 29.3. She has 3 children and she does not smoke.\n\nPatient 4 is 28 years old, male, with a bmi of 26.2. He has 3 children and he does not smoke.\n\n"
          ]
        }
      ]
    },
    {
      "cell_type": "markdown",
      "metadata": {
        "id": "xieuBSWzx80B"
      },
      "source": [
        "Investigate how insurance costs change for different patients."
      ]
    },
    {
      "cell_type": "code",
      "metadata": {
        "id": "Bz0gxzvLx9bO",
        "colab": {
          "base_uri": "https://localhost:8080/"
        },
        "outputId": "8ed657db-96e2-421d-ffe7-c01c25d92616"
      },
      "source": [
        "patient1.print_ins_cost()\n",
        "print('The change in cost of insurance after increasing the age by 4 years is {insurance_cost_delta} dollars.'.format(insurance_cost_delta = compare_costs(patient2,patient1)))\n",
        "print('\\n')\n",
        "print('The change in cost of insurance after increasing BMI by 3.1 is {insurance_cost_delta} dollars.'.format(insurance_cost_delta = compare_costs(patient3,patient1)))\n",
        "print('\\n')\n",
        "print('The change in cost of insurance is {insurance_cost_delta} dollars if the patient is male.'.format(insurance_cost_delta = compare_costs(patient4,patient1)))"
      ],
      "execution_count": 47,
      "outputs": [
        {
          "output_type": "stream",
          "name": "stdout",
          "text": [
            "The insurance cost for Patient 1 is 5469.0 dollars.\n\nThe change in cost of insurance after increasing the age by 4 years is 1000.0 dollars.\n\n\nThe change in cost of insurance after increasing BMI by 3.1 is 1147.0 dollars.\n\n\nThe change in cost of insurance is -128.0 dollars if the patient is male.\n"
          ]
        }
      ]
    },
    {
      "cell_type": "markdown",
      "metadata": {
        "id": "xLsBLfaphXiw"
      },
      "source": [
        "Define 3 new patients, Maria, Omar and Keanu."
      ]
    },
    {
      "cell_type": "code",
      "metadata": {
        "id": "FqkHPAMwhYH9",
        "colab": {
          "base_uri": "https://localhost:8080/"
        },
        "outputId": "6961e066-f370-4f01-e25b-852285ae569b"
      },
      "source": [
        "Maria = Patient('Maria',28,0,26.2,3,0)\n",
        "Omar = Patient('Omar',35,1,22.2,0,1)\n",
        "Keanu = Patient('Keanu',29,1,26.2,3,1)\n",
        "print(Maria)\n",
        "Maria.print_ins_cost()\n",
        "print(Omar)\n",
        "Omar.print_ins_cost()\n",
        "print(Keanu)\n",
        "Keanu.print_ins_cost()"
      ],
      "execution_count": 48,
      "outputs": [
        {
          "output_type": "stream",
          "name": "stdout",
          "text": [
            "Maria is 28 years old, female, with a bmi of 26.2. She has 3 children and she does not smoke.\n\nThe insurance cost for Maria is 5469.0 dollars.\n\nOmar is 35 years old, male, with a bmi of 22.2. He has no children and he is a smoker.\n\nThe insurance cost for Omar is 28336.0 dollars.\n\nKeanu is 29 years old, male, with a bmi of 26.2. He has 3 children and he is a smoker.\n\nThe insurance cost for Keanu is 29591.0 dollars.\n\n"
          ]
        }
      ]
    },
    {
      "cell_type": "markdown",
      "metadata": {
        "id": "Kk8V2is4kaDl"
      },
      "source": [
        "Explore ways to reduce insurance costs for Maria, Omar and Keanu."
      ]
    },
    {
      "cell_type": "code",
      "metadata": {
        "id": "QtF-jtNHkaVU",
        "colab": {
          "base_uri": "https://localhost:8080/"
        },
        "outputId": "2c022cdf-c1af-4f81-d271-ee660b06fbe3"
      },
      "source": [
        "Maria.reduce_cost()\n",
        "Omar.reduce_cost()\n",
        "Keanu.reduce_cost()"
      ],
      "execution_count": 49,
      "outputs": [
        {
          "output_type": "stream",
          "name": "stdout",
          "text": [
            "Maria, smoking is not an issue for you.\n\n\nMaria, your BMI is in the overweight range. You should lower your BMI in order to lower your cost.\n\n\nOmar, you should consider quitting smoking in order to lower your cost.\n\n\nOmar, your BMI is in a healthy range.\n\n\nKeanu, you should consider quitting smoking in order to lower your cost.\n\n\nKeanu, your BMI is in the overweight range. You should lower your BMI in order to lower your cost.\n\n\n"
          ]
        }
      ]
    }
  ]
}